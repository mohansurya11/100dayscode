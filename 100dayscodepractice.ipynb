{
  "nbformat": 4,
  "nbformat_minor": 0,
  "metadata": {
    "colab": {
      "provenance": [],
      "authorship_tag": "ABX9TyM8c40xYvN3gCFvF1hWnzOn",
      "include_colab_link": true
    },
    "kernelspec": {
      "name": "python3",
      "display_name": "Python 3"
    },
    "language_info": {
      "name": "python"
    }
  },
  "cells": [
    {
      "cell_type": "markdown",
      "metadata": {
        "id": "view-in-github",
        "colab_type": "text"
      },
      "source": [
        "<a href=\"https://colab.research.google.com/github/mohansurya11/100dayscode/blob/main/100dayscodepractice.ipynb\" target=\"_parent\"><img src=\"https://colab.research.google.com/assets/colab-badge.svg\" alt=\"Open In Colab\"/></a>"
      ]
    },
    {
      "cell_type": "markdown",
      "source": [
        "Day 1 coding Statement: Write a program to identify if the character is a vowel or consonant.\n",
        "\n",
        "Description of the program: \n",
        "\n",
        "\n",
        "Take an input character from the user and check whether the given input is a vowel or consonant.\n",
        "\n",
        "Input:\n",
        "A\n",
        "\n",
        "Output\n",
        "Vowel\n",
        "\n",
        "Input:\n",
        "m\n",
        "\n",
        "Output\n",
        "Consonant\n",
        "\n",
        "Input:\n",
        "3\n",
        "\n",
        "Output\n",
        "Invalid Input"
      ],
      "metadata": {
        "id": "CxZus9op1zf1"
      }
    },
    {
      "cell_type": "code",
      "source": [
        "c = input()\n",
        "if(c=='A' or c=='E' or c=='I' or c=='O' or c=='U' or c=='a' or c=='e' or c=='i' or c=='o' or c=='u'):\n",
        "  print(\"Vowel\")\n",
        "elif((c>=\"A\" and c<='Z') or (c>=\"a\" and c<=\"z\")):\n",
        "  print(\"Consonant\")\n",
        "else:\n",
        "  print(\"Invalid Input\")\n",
        "  \n",
        "  "
      ],
      "metadata": {
        "id": "D8PV-Lij19q0"
      },
      "execution_count": null,
      "outputs": []
    },
    {
      "cell_type": "markdown",
      "source": [
        "Day 2 coding Statement: Write a program to identify if the character is an alphabet or not.\n",
        "\n",
        " \n",
        "\n",
        "Description: Take an input character from user and check whether it is an alphabet or not.\n",
        "\n",
        " \n",
        "\n",
        "Input : A\n",
        "\n",
        "Output:  Alphabet\n",
        "\n",
        "Input: 7\n",
        "\n",
        "Output: Not an alphabet"
      ],
      "metadata": {
        "id": "2Y26Zwg-4kx8"
      }
    },
    {
      "cell_type": "code",
      "source": [
        "c=input()\n",
        "if ((c>=\"a\" and c<=\"z\") or (c>=\"A\" and c<=\"Z\")):\n",
        "  print(\"Alphabet\")\n",
        "else:\n",
        "  print(\"Not an Alphabet\")"
      ],
      "metadata": {
        "colab": {
          "base_uri": "https://localhost:8080/"
        },
        "id": "r677_WsH4qsc",
        "outputId": "df31a48f-8f19-4133-b595-4bfe1372e60c"
      },
      "execution_count": 12,
      "outputs": [
        {
          "output_type": "stream",
          "name": "stdout",
          "text": [
            "A\n",
            "Alphabet\n"
          ]
        }
      ]
    },
    {
      "cell_type": "markdown",
      "source": [
        "Day 3 coding Statement: Write a program to find ASCII values of a character\n",
        "\n",
        " \n",
        "\n",
        "Description: Get an input character from the user and give the ASCII value of the given input as the output.\n",
        "\n",
        "Input: b\n",
        "\n",
        "Output: 98\n",
        "\n",
        "Input: B\n",
        "\n",
        "Output: 66"
      ],
      "metadata": {
        "id": "QR7LjWAo5VO9"
      }
    },
    {
      "cell_type": "code",
      "source": [
        "c = input()\n",
        "print(ord(c))"
      ],
      "metadata": {
        "colab": {
          "base_uri": "https://localhost:8080/"
        },
        "id": "Dr53Y-Nj5Z6V",
        "outputId": "ca85d74f-8cf6-4888-b558-f0deacaf7fe8"
      },
      "execution_count": 14,
      "outputs": [
        {
          "output_type": "stream",
          "name": "stdout",
          "text": [
            "B\n",
            "66\n"
          ]
        }
      ]
    },
    {
      "cell_type": "markdown",
      "source": [
        "Day 4 coding Statement:  Write a program to identify of the a number is positive or negative\n",
        "\n",
        "Description\n",
        "\n",
        "\n",
        "Get an input number from the user and check whether it is a positive or negative number.\n",
        "\n",
        "Input : -10\n",
        "Output : Negative number\n",
        "\n",
        "Input :0\n",
        "Output : Neither positive nor negative\n",
        "\n",
        "Input :15\n",
        "Output : Positive number"
      ],
      "metadata": {
        "id": "LzO76oID5tm6"
      }
    },
    {
      "cell_type": "code",
      "source": [
        "num=int(input())\n",
        "if num==0:\n",
        "  print(\"Neither positive nor negative\")\n",
        "elif num>0:\n",
        "  print(\"Positive number\")\n",
        "else:\n",
        "  print(\"Negative number\")\n",
        "\n",
        "\n",
        "#method2:\n",
        "num=int(input())\n",
        "print(\"Positive\" if num>0 else(\"Negative\" if num<0 else \"Neither Positive or negative\"))"
      ],
      "metadata": {
        "colab": {
          "base_uri": "https://localhost:8080/"
        },
        "id": "55_RMmk_5x7Z",
        "outputId": "467f6fe5-601a-4b74-bb44-67afa6b729d0"
      },
      "execution_count": 20,
      "outputs": [
        {
          "output_type": "stream",
          "name": "stdout",
          "text": [
            "8\n",
            "Positive\n"
          ]
        }
      ]
    },
    {
      "cell_type": "markdown",
      "source": [
        "Day 5 coding Statement:  Write a program to identify if the number is even or odd\n",
        "\n",
        "Description\n",
        "\n",
        "Get a number as input from the user and check whether the given number is odd or even\n",
        "\n",
        "Input:\n",
        "\n",
        "10\n",
        "\n",
        "Output\n",
        "\n",
        "Even\n",
        "\n",
        "Input:\n",
        "\n",
        "5\n",
        "\n",
        "Output\n",
        "\n",
        "Odd"
      ],
      "metadata": {
        "id": "UfU_ZHU07AJO"
      }
    },
    {
      "cell_type": "code",
      "source": [
        "num=int(input())\n",
        "if num%2==0:\n",
        "  print(\"Even\")\n",
        "else:\n",
        "  print(\"Odd\")\n",
        "\n",
        "#method2:\n",
        "num=int(input())\n",
        "print(\"Even\" if num%2==0 else \"Odd\")\n",
        "\n",
        "#method3:\n",
        "num=int(input())\n",
        "if num&1: \n",
        "  print(\"Odd\")\n",
        "else:\n",
        "  print(\"Even\")"
      ],
      "metadata": {
        "colab": {
          "base_uri": "https://localhost:8080/"
        },
        "id": "v68DXbS-7Flo",
        "outputId": "7049697c-80ed-4b25-da78-c4690238f183"
      },
      "execution_count": 22,
      "outputs": [
        {
          "output_type": "stream",
          "name": "stdout",
          "text": [
            "3\n",
            "Odd\n"
          ]
        }
      ]
    },
    {
      "cell_type": "markdown",
      "source": [
        "Day 6 coding Statement:  Write a program to find the Quadrants in which coordinates lie\n",
        "\n",
        "Get the value of x and y coordinates as input from the user and check in which quadrant the point lies and print it.\n",
        "\n",
        "Input\n",
        "\n",
        "10 20\n",
        "\n",
        "Output\n",
        "\n",
        "This point lies in first quadrant.\n",
        "\n",
        "Input\n",
        "\n",
        "-10 20\n",
        "\n",
        "Output\n",
        "\n",
        "This point lies in second quadrant."
      ],
      "metadata": {
        "id": "ehZT24mH87Ic"
      }
    },
    {
      "cell_type": "code",
      "source": [
        "fn,sn=input().split()\n",
        "if(int(fn)>0 and int(sn)>0):\n",
        "  print(\"This point lies in first quadrant\")\n",
        "if(int(fn)<0 and int(sn)>0):\n",
        "  print(\"This point lies in second quadrant\")\n",
        "if(int(fn)>0 and int(sn)<0):\n",
        "  print(\"This point lies in fourth quadrant\")\n",
        "if(int(fn)<0 and int(sn)<0):\n",
        "  print(\"This point lies in third quadrant\")"
      ],
      "metadata": {
        "colab": {
          "base_uri": "https://localhost:8080/"
        },
        "id": "LX_Lr_OP8_pU",
        "outputId": "a35f362a-d172-4020-8b93-c2b98e9019c0"
      },
      "execution_count": 29,
      "outputs": [
        {
          "output_type": "stream",
          "name": "stdout",
          "text": [
            "10 20\n",
            "This point lies in first quadrant\n"
          ]
        }
      ]
    },
    {
      "cell_type": "markdown",
      "source": [
        "Day 7 coding Statement:  Write a program to find Number of days in a given month of a given year\n",
        "\n",
        "Description\n",
        "\n",
        "Get the number of month and year as input from the user and check the number of days present in that month.\n",
        "\n",
        "Input\n",
        "\n",
        "Enter month : 2\n",
        "\n",
        "Enter year : 2000\n",
        "\n",
        "Output\n",
        "\n",
        "29"
      ],
      "metadata": {
        "id": "8SFXxM8e_L76"
      }
    },
    {
      "cell_type": "code",
      "source": [
        "month=int(input())\n",
        "year=int(input())\n",
        "if (month==2 and (((month % 4 == 0) and (month % 100 != 0)) or (month % 400 == 0))):\n",
        "  print(\"29\")\n",
        "elif month==2:\n",
        "  print(\"28\")\n",
        "\n",
        "elif month==1 or month==3 or month==5 or month==7 or month==8 or month==10 or month==12:\n",
        "  print(\"31\")\n",
        "elif month==4 or month==6 or month==9 or month==11:\n",
        "  print(\"30\")\n"
      ],
      "metadata": {
        "colab": {
          "base_uri": "https://localhost:8080/"
        },
        "id": "nt0ycQ2L_XuR",
        "outputId": "027d4d80-1e0a-4e3e-d74d-b5d3497daf15"
      },
      "execution_count": 36,
      "outputs": [
        {
          "output_type": "stream",
          "name": "stdout",
          "text": [
            "2\n",
            "2000\n",
            "28\n"
          ]
        }
      ]
    },
    {
      "cell_type": "markdown",
      "source": [
        "Day 8 coding Statement:  Write a program to find roots of a quadratic equation\n",
        "\n",
        "Description\n",
        "\n",
        "Get the values of a, b and c (coefficients of quadratic equation) as input from the user and calculate the roots and print as the output.\n",
        "\n",
        "Input\n",
        "\n",
        "Enter the value of a, b and c : 1 -6 9\n",
        "\n",
        "Output\n",
        "\n",
        "Roots are equal\n",
        "\n",
        "Root 1= root 2 = 3.00"
      ],
      "metadata": {
        "id": "Gjb9mxxQDFR2"
      }
    },
    {
      "cell_type": "code",
      "source": [
        "import math\n",
        "a = int(input('Enter value for a :'))\n",
        "b = int(input('Enter value for b :'))\n",
        "c = int(input('Enter value for c :'))\n",
        "if a == 0:\n",
        " print(\"a cannot be zero\")\n",
        "else:\n",
        " d = b**2 - 4 * a * c\n",
        " root = math.sqrt(abs(d))\n",
        " if d > 0:\n",
        "    print(\"Two Real Roots\")\n",
        "    print((-b + root)/(2 * a))\n",
        "    print((-b -root)/(2 * a))\n",
        " elif d == 0:\n",
        "    print(\"Roots are equal\")\n",
        "    print(-b / (2*a))\n",
        " else:\n",
        "    print(\"No Real Root\")\n",
        "    print(- b / (2*a) , \" + i\", root)\n",
        "    print(- b / (2*a) , \" - i\", root)"
      ],
      "metadata": {
        "id": "LhXvn2ZwDJLb"
      },
      "execution_count": null,
      "outputs": []
    },
    {
      "cell_type": "markdown",
      "source": [
        "Day 9 coding Statement : Write a program to find Number of digits in an integer\n",
        "\n",
        "Description\n",
        "\n",
        "Take an integer as the input from the user and then calculate the number of digits in the given input and print it as the output.\n",
        "\n",
        "Input\n",
        "\n",
        "3241\n",
        "\n",
        "Output\n",
        "\n",
        "4 I\n",
        "\n",
        "nput\n",
        "\n",
        "6\n",
        "\n",
        "Output\n",
        "\n",
        "1"
      ],
      "metadata": {
        "id": "EZdeJF7ADzld"
      }
    },
    {
      "cell_type": "code",
      "source": [
        "'''n=int(input())\n",
        "print(len(str(n)))'''\n",
        "\n",
        "#method\n",
        "n=int(input())#1234\n",
        "count=0\n",
        "if n==0:\n",
        "  print(\"Number of digit is 1\")\n",
        "else:\n",
        "  while n!=0:\n",
        "    n=n//10\n",
        "    print(n)\n",
        "    count+=1\n",
        "    print(count)\n",
        "  print(count)"
      ],
      "metadata": {
        "id": "alCVskxgD3H5"
      },
      "execution_count": null,
      "outputs": []
    },
    {
      "cell_type": "markdown",
      "source": [
        "Day 10 coding Statement:  Write a program to find Factorial of a number\n",
        "\n",
        "Description\n",
        "\n",
        "Get a number from user for which you need to fin the factorial, then calculate the factorial and give it as the output.\n",
        "\n",
        "Input\n",
        "\n",
        "4\n",
        "\n",
        "Output\n",
        "\n",
        "24"
      ],
      "metadata": {
        "id": "A-C6jo-sGHyH"
      }
    },
    {
      "cell_type": "code",
      "source": [
        "'''def fact(n):\n",
        "\n",
        "  if n==1 or n==0:\n",
        "    return 1\n",
        "  elif n>1:\n",
        "    return n*fact(n-1)\n",
        "n=int(input())\n",
        "print(fact(n))'''\n",
        "\n",
        "#method\n",
        "n=int(input())\n",
        "fact=1\n",
        "if n<0:\n",
        "  print(\"Invalid\")\n",
        "else:\n",
        "  for i in range(1,n+1):\n",
        "    fact=fact*i\n",
        "  print(fact)\n",
        "\n"
      ],
      "metadata": {
        "colab": {
          "base_uri": "https://localhost:8080/"
        },
        "id": "9SLceb3sGJPx",
        "outputId": "b7635eb4-a3ea-4dfe-8923-996fb6f271f9"
      },
      "execution_count": 56,
      "outputs": [
        {
          "output_type": "stream",
          "name": "stdout",
          "text": [
            "0\n",
            "1\n"
          ]
        }
      ]
    }
  ]
}